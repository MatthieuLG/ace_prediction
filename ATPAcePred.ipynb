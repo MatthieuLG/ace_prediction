{
  "cells": [
    {
      "cell_type": "code",
      "execution_count": 2,
      "metadata": {
        "id": "N1xm-xg0Z63U"
      },
      "outputs": [],
      "source": [
        "import pandas as pd\n",
        "import numpy as np\n",
        "import matplotlib.pyplot as plt\n",
        "import warnings\n",
        "warnings.filterwarnings('ignore')\n",
        "import joblib\n",
        "#################################\n",
        "from tqdm import tqdm \n",
        "from sklearn.model_selection import train_test_split\n",
        "from sklearn.ensemble import RandomForestRegressor\n",
        "from sklearn.metrics import r2_score\n",
        "from sklearn.model_selection import GridSearchCV"
      ]
    },
    {
      "cell_type": "markdown",
      "metadata": {
        "id": "Yqy89Z-Sv72e"
      },
      "source": [
        "# Traitement des données"
      ]
    },
    {
      "cell_type": "code",
      "execution_count": 3,
      "metadata": {
        "id": "0KzYRHrGZ7mB"
      },
      "outputs": [],
      "source": [
        "# Import des données\n",
        "df_2023 = pd.read_csv(\"atp_matches_2023.csv\", sep = ',', header = 0)\n",
        "df_2023 = df_2023[::-1]\n",
        "df_2023.reset_index(drop=True, inplace=True)\n",
        "df_2022 = pd.read_csv(\"atp_matches_2022.csv\", sep = ',', header = 0)\n",
        "df_2022 = df_2022[::-1]\n",
        "df_2022.reset_index(drop=True, inplace=True)\n",
        "df_2021 = pd.read_csv(\"atp_matches_2021.csv\", sep = ',', header = 0)\n",
        "df_2021 = df_2021[::-1]\n",
        "df_2021.reset_index(drop=True, inplace=True)\n",
        "df_2020 = pd.read_csv(\"atp_matches_2020.csv\", sep = ',', header = 0)\n",
        "df_2020 = df_2020[::-1]\n",
        "df_2020.reset_index(drop=True, inplace=True)\n",
        "df_2019 = pd.read_csv(\"atp_matches_2020.csv\", sep = ',', header = 0)\n",
        "df_2019 = df_2019[::-1]\n",
        "df_2019.reset_index(drop=True, inplace=True)\n",
        "df_2018 = pd.read_csv(\"atp_matches_2020.csv\", sep = ',', header = 0)\n",
        "df_2018 = df_2018[::-1]\n",
        "df_2018.reset_index(drop=True, inplace=True)\n",
        "df_2017 = pd.read_csv(\"atp_matches_2020.csv\", sep = ',', header = 0)\n",
        "df_2017 = df_2017[::-1]\n",
        "df_2017.reset_index(drop=True, inplace=True)\n",
        "df_2016 = pd.read_csv(\"atp_matches_2020.csv\", sep = ',', header = 0)\n",
        "df_2016 = df_2016[::-1]\n",
        "df_2016.reset_index(drop=True, inplace=True)\n",
        "df_2015 = pd.read_csv(\"atp_matches_2020.csv\", sep = ',', header = 0)\n",
        "df_2015 = df_2015[::-1]\n",
        "df_2015.reset_index(drop=True, inplace=True)\n",
        "data = pd.concat([df_2023, df_2022, df_2021, df_2020, df_2019, df_2018, df_2017, df_2016, df_2015], ignore_index=True)"
      ]
    },
    {
      "cell_type": "markdown",
      "metadata": {},
      "source": [
        "# Retirer des matchs "
      ]
    },
    {
      "cell_type": "code",
      "execution_count": 4,
      "metadata": {},
      "outputs": [
        {
          "data": {
            "text/plain": [
              "(7598, 50)"
            ]
          },
          "execution_count": 4,
          "metadata": {},
          "output_type": "execute_result"
        }
      ],
      "source": [
        "# Retirer les abandons, DavidCUP et garder uniquement sur DUR en 3 sets max\n",
        "data = data[~data['score'].str.contains('RET')]\n",
        "data = data[~data['tourney_name'].str.contains('Davis Cup')]\n",
        "data = data[data['best_of'] == 3]\n",
        "data = data[data['surface'] == 'Hard']\n",
        "\n",
        "# Remplacer les gauchers et droitiers\n",
        "data[\"winner_hand\"] = data[\"winner_hand\"].replace({\"R\": 0, \"L\": 1, \"U\": np.nan})\n",
        "data[\"loser_hand\"] = data[\"loser_hand\"].replace({\"R\": 0, \"L\": 1, \"U\": np.nan})\n",
        "\n",
        "# Ajouter le nombre du set pendant le match\n",
        "data['nb_set'] = data['score'].str.count('-')\n",
        "\n",
        "# Avoir au moins 10 matchs sur 8 ans\n",
        "all_names = pd.concat([data['winner_name'], data['loser_name']])\n",
        "name_counts = all_names.value_counts()\n",
        "filtered_names = name_counts[name_counts >= 1].index.tolist()\n",
        "data = data[data['winner_name'].isin(filtered_names) | data['loser_name'].isin(filtered_names)]\n",
        "data.shape"
      ]
    },
    {
      "cell_type": "markdown",
      "metadata": {},
      "source": [
        "# Rennomage et selection"
      ]
    },
    {
      "cell_type": "code",
      "execution_count": 5,
      "metadata": {
        "id": "6cGEE2Y9lBST"
      },
      "outputs": [],
      "source": [
        "# Selection des variables\n",
        "data = data[['winner_id', 'winner_name', 'winner_hand', 'winner_ht',\n",
        "             'loser_id', 'loser_name', 'loser_hand', 'loser_ht',\n",
        "             'w_ace', 'w_df', 'w_svpt', 'w_1stIn', 'w_1stWon',\n",
        "             'w_2ndWon', 'w_SvGms', 'w_bpSaved', 'w_bpFaced',\n",
        "             'l_ace', 'l_df', 'l_svpt', 'l_1stIn', 'l_1stWon',\n",
        "             'l_2ndWon', 'l_SvGms', 'l_bpSaved', 'l_bpFaced',\n",
        "             'nb_set']]\n",
        "# Rename\n",
        "data.rename(columns={\n",
        "    'winner_id': 'w_id',\n",
        "    'winner_name': 'w_name',\n",
        "    'winner_hand': 'w_hand',\n",
        "    'winner_ht': 'w_ht',\n",
        "    'loser_id': 'l_id',\n",
        "    'loser_name': 'l_name',\n",
        "    'loser_hand': 'l_hand',\n",
        "    'loser_ht': 'l_ht',\n",
        "    'w_ace': 'w_ace',\n",
        "    'w_df': 'w_df',\n",
        "    'w_svpt': 'w_svpt',\n",
        "    'w_1stIn': 'w_1stIn',\n",
        "    'w_1stWon': 'w_1stWon',\n",
        "    'w_2ndWon': 'w_2ndWon',\n",
        "    'w_SvGms': 'w_SvGms',\n",
        "    'w_bpSaved': 'w_bpSaved',\n",
        "    'w_bpFaced': 'w_bpFaced',\n",
        "    'l_ace': 'l_ace',\n",
        "    'l_df': 'l_df',\n",
        "    'l_svpt': 'l_svpt',\n",
        "    'l_1stIn': 'l_1stIn',\n",
        "    'l_1stWon': 'l_1stWon',\n",
        "    'l_2ndWon': 'l_2ndWon',\n",
        "    'l_SvGms': 'l_SvGms',\n",
        "    'l_bpSaved': 'l_bpSaved',\n",
        "    'l_bpFaced': 'l_bpFaced',\n",
        "    'nb_set': 'nb_set'\n",
        "}, inplace=True)\n",
        "data.reset_index(drop=True, inplace=True)\n",
        "data = data.dropna()"
      ]
    },
    {
      "cell_type": "code",
      "execution_count": 6,
      "metadata": {
        "id": "AR1x9sEClXr3"
      },
      "outputs": [],
      "source": [
        "# Pourcentage de première balle\n",
        "data['w_prcent1st'] = data['w_1stIn'] / data['w_svpt']\n",
        "data['l_prcent1st'] = data['l_1stIn'] / data['l_svpt']\n",
        "# Pourcentage de première balle win\n",
        "data['w_prcent1stwin'] = data['w_1stWon'] / data['w_1stIn']\n",
        "data['l_prcent1stwin'] = data['l_1stWon'] / data['l_1stIn']\n",
        "# Nb deuxieme balle\n",
        "data['w_2ndball'] = data['w_svpt'] - data['w_1stIn']\n",
        "data['l_2ndball'] = data['l_svpt'] - data['l_1stIn']\n",
        "# Pourcentage de deuxieme balle win\n",
        "data['w_prcent2ndwin'] = data['w_2ndWon'] / data['w_2ndball']\n",
        "data['l_prcent2ndwin'] = data['l_2ndWon'] / data['l_2ndball']\n",
        "# Pourcentage de jeux de services gagnés\n",
        "data['w_prcentgameserve'] =  (data['w_SvGms'] - (data['w_bpFaced']- data['w_bpSaved'])) / data['w_SvGms']\n",
        "data['l_prcentgameserve'] =  (data['l_SvGms'] - (data['l_bpFaced']- data['l_bpSaved'])) / data['l_SvGms']\n",
        "# Pourcentage de jeux de retours gagnés\n",
        "data['w_prcentgamesreturn'] = 1 - data['l_prcentgameserve']\n",
        "data['l_prcentgamesreturn'] = 1 - data['w_prcentgameserve']\n",
        "# Pourcentage de pts gagnés sur 1er balle au retour\n",
        "data['w_prcent1stwinreturn'] = 1 - data['l_prcent1stwin']\n",
        "data['l_prcent1stwinreturn'] = 1 - data['w_prcent1stwin']\n",
        "# Pourcentage de pts gagnés sur 2eme balle au retour\n",
        "data['w_prcent2ndwinreturn'] = 1 - data['l_prcent2ndwin']\n",
        "data['l_prcent2ndwinreturn'] = 1 - data['w_prcent2ndwin']\n",
        "# Pourcentage de balle de break convertis\n",
        "data['w_breakwin'] = np.where(data['l_bpFaced'] == 0, 0, (data['l_bpFaced'] - data['l_bpSaved']) / data['l_bpFaced'])\n",
        "data['l_breakwin'] = np.where(data['w_bpFaced'] == 0, 0, (data['w_bpFaced'] - data['w_bpSaved']) / data['w_bpFaced'])\n",
        "# Définissez une fonction pour renommer les colonnes\n",
        "def rename_columns(column_name):\n",
        "    if column_name.startswith(\"w_\"):\n",
        "        return \"Player1_\" + column_name[2:]\n",
        "    elif column_name.startswith(\"l_\"):\n",
        "        return \"Player2_\" + column_name[2:]\n",
        "    else:\n",
        "        return column_name\n",
        "\n",
        "# Utilisez la méthode \"rename\" pour renommer les colonnes\n",
        "data = data.rename(columns=rename_columns)"
      ]
    },
    {
      "cell_type": "markdown",
      "metadata": {},
      "source": [
        "# Creation du dataset final"
      ]
    },
    {
      "cell_type": "code",
      "execution_count": 7,
      "metadata": {
        "id": "wg0fC6E6qGDo"
      },
      "outputs": [],
      "source": [
        "joueurs = []\n",
        "\n",
        "# Itérez à travers chaque ligne de df_model\n",
        "for index, row in data.iterrows():\n",
        "    joueur1 = {\n",
        "        'Player1_id' : row['Player1_id'],\n",
        "        'Player1_name': row['Player1_name'],\n",
        "        'Player1_hand': row['Player1_hand'],\n",
        "        'Player1_ht': row['Player1_ht'],\n",
        "        'Player1_ace': row['Player1_ace'],\n",
        "        'Player1_df': row['Player1_df'],\n",
        "        'Player1_svpt': row['Player1_svpt'],\n",
        "        'Player1_1stIn': row['Player1_1stIn'],\n",
        "        'Player1_1stWon': row['Player1_1stWon'],\n",
        "        'Player1_2ndWon': row['Player1_2ndWon'],\n",
        "        'Player1_SvGms' : row['Player1_SvGms'],\n",
        "        'Player1_bpSaved' : row['Player1_bpSaved'],\n",
        "        'Player1_bpFaced': row['Player1_bpFaced'],\n",
        "        'Player1_prcent1st': row['Player1_prcent1st'],\n",
        "        'Player1_prcent1stwin': row['Player1_prcent1stwin'],\n",
        "        'Player1_2ndball': row['Player1_2ndball'],\n",
        "        'Player1_prcent2ndwin': row['Player1_prcent2ndwin'],\n",
        "        'Player1_prcentgameserve': row['Player1_prcentgameserve'],\n",
        "        'Player1_prcentgamesreturn': row['Player1_prcentgamesreturn'],\n",
        "        'Player1_prcent1stwinreturn': row['Player1_prcent1stwinreturn'],\n",
        "        'Player1_prcent2ndwinreturn': row['Player1_prcent2ndwinreturn'],\n",
        "        'Player1_breakwin' : row['Player1_breakwin'],\n",
        "        'Player2_id' : row['Player2_id'],\n",
        "        'Player2_name': row['Player2_name'],\n",
        "        'Player2_hand': row['Player2_hand'],\n",
        "        'Player2_ht': row['Player2_ht'],\n",
        "        'Player2_ace': row['Player2_ace'],\n",
        "        'Player2_df': row['Player2_df'],\n",
        "        'Player2_svpt': row['Player2_svpt'],\n",
        "        'Player2_1stIn': row['Player2_1stIn'],\n",
        "        'Player2_1stWon': row['Player2_1stWon'],\n",
        "        'Player2_2ndWon': row['Player2_2ndWon'],\n",
        "        'Player2_SvGms' : row['Player2_SvGms'],\n",
        "        'Player2_bpSaved' : row['Player2_bpSaved'],\n",
        "        'Player2_bpFaced': row['Player2_bpFaced'],\n",
        "        'Player2_prcent1st': row['Player2_prcent1st'],\n",
        "        'Player2_prcent1stwin': row['Player2_prcent1stwin'],\n",
        "        'Player2_2ndball': row['Player2_2ndball'],\n",
        "        'Player2_prcent2ndwin': row['Player2_prcent2ndwin'],\n",
        "        'Player2_prcentgameserve': row['Player2_prcentgameserve'],\n",
        "        'Player2_prcentgamesreturn': row['Player2_prcentgamesreturn'],\n",
        "        'Player2_prcent1stwinreturn': row['Player2_prcent1stwinreturn'],\n",
        "        'Player2_prcent2ndwinreturn': row['Player2_prcent2ndwinreturn'],\n",
        "        'Player2_breakwin' : row['Player2_breakwin']\n",
        "    }\n",
        "\n",
        "    joueur2 = {\n",
        "        'Player1_id' : row['Player2_id'],\n",
        "        'Player1_name': row['Player2_name'],\n",
        "        'Player1_hand': row['Player2_hand'],\n",
        "        'Player1_ht': row['Player2_ht'],\n",
        "        'Player1_ace': row['Player2_ace'],\n",
        "        'Player1_df': row['Player2_df'],\n",
        "        'Player1_svpt': row['Player2_svpt'],\n",
        "        'Player1_1stIn': row['Player2_1stIn'],\n",
        "        'Player1_1stWon': row['Player2_1stWon'],\n",
        "        'Player1_2ndWon': row['Player2_2ndWon'],\n",
        "        'Player1_SvGms' : row['Player2_SvGms'],\n",
        "        'Player1_bpSaved' : row['Player2_bpSaved'],\n",
        "        'Player1_bpFaced': row['Player2_bpFaced'],\n",
        "        'Player1_prcent1st': row['Player2_prcent1st'],\n",
        "        'Player1_prcent1stwin': row['Player2_prcent1stwin'],\n",
        "        'Player1_2ndball': row['Player2_2ndball'],\n",
        "        'Player1_prcent2ndwin': row['Player2_prcent2ndwin'],\n",
        "        'Player1_prcentgameserve': row['Player2_prcentgameserve'],\n",
        "        'Player1_prcentgamesreturn': row['Player2_prcentgamesreturn'],\n",
        "        'Player1_prcent1stwinreturn': row['Player2_prcent1stwinreturn'],\n",
        "        'Player1_prcent2ndwinreturn': row['Player2_prcent2ndwinreturn'],\n",
        "        'Player1_breakwin' : row['Player2_breakwin'],\n",
        "        'Player2_id' : row['Player1_id'],\n",
        "        'Player2_name': row['Player1_name'],\n",
        "        'Player2_hand': row['Player1_hand'],\n",
        "        'Player2_ht': row['Player1_ht'],\n",
        "        'Player2_ace': row['Player1_ace'],\n",
        "        'Player2_df': row['Player1_df'],\n",
        "        'Player2_svpt': row['Player1_svpt'],\n",
        "        'Player2_1stIn': row['Player1_1stIn'],\n",
        "        'Player2_1stWon': row['Player1_1stWon'],\n",
        "        'Player2_2ndWon': row['Player1_2ndWon'],\n",
        "        'Player2_SvGms' : row['Player1_SvGms'],\n",
        "        'Player2_bpSaved' : row['Player1_bpSaved'],\n",
        "        'Player2_bpFaced': row['Player1_bpFaced'],\n",
        "        'Player2_prcent1st': row['Player1_prcent1st'],\n",
        "        'Player2_prcent1stwin': row['Player1_prcent1stwin'],\n",
        "        'Player2_2ndball': row['Player1_2ndball'],\n",
        "        'Player2_prcent2ndwin': row['Player1_prcent2ndwin'],\n",
        "        'Player2_prcentgameserve': row['Player1_prcentgameserve'],\n",
        "        'Player2_prcentgamesreturn': row['Player1_prcentgamesreturn'],\n",
        "        'Player2_prcent1stwinreturn': row['Player1_prcent1stwinreturn'],\n",
        "        'Player2_prcent2ndwinreturn': row['Player1_prcent2ndwinreturn'],\n",
        "        'Player2_breakwin' : row['Player1_breakwin']\n",
        "    }\n",
        "\n",
        "    joueurs.append(joueur1)\n",
        "    joueurs.append(joueur2)\n",
        "\n",
        "# Créez un DataFrame à partir de la liste de joueurs\n",
        "df_joueurs = pd.DataFrame(joueurs)\n",
        "df_streamlit = df_joueurs\n",
        "colonnes_a_garder = [\n",
        "    'Player1_hand', 'Player1_ht', 'Player1_ace', 'Player1_df', 'Player1_prcent1st',\n",
        "    'Player1_prcent1stwin', 'Player1_prcent2ndwin', 'Player1_prcentgameserve',\n",
        "    'Player2_hand', 'Player2_ht', 'Player2_ace', 'Player2_df', 'Player2_prcentgamesreturn',\n",
        "    'Player2_prcent1stwinreturn', 'Player2_prcent2ndwinreturn', 'Player2_breakwin'\n",
        "]\n",
        "df_joueurs = df_joueurs[colonnes_a_garder]"
      ]
    },
    {
      "cell_type": "markdown",
      "metadata": {
        "id": "4yT5UzQNv5ny"
      },
      "source": [
        "# Entrainement du modele"
      ]
    },
    {
      "cell_type": "code",
      "execution_count": 8,
      "metadata": {
        "colab": {
          "base_uri": "https://localhost:8080/",
          "height": 583
        },
        "id": "nHKD3b0w0mH4",
        "outputId": "34b7e078-7bad-47eb-860e-da8a09d8eb0f"
      },
      "outputs": [
        {
          "name": "stdout",
          "output_type": "stream",
          "text": [
            "R² : 0.7477120144134557\n"
          ]
        },
        {
          "data": {
            "image/png": "[encoded data removed]",
            "text/plain": [
              "<Figure size 720x432 with 1 Axes>"
            ]
          },
          "metadata": {
            "needs_background": "light"
          },
          "output_type": "display_data"
        }
      ],
      "source": [
        "# Séparer les fonctionnalités (X) et la cible (y)\n",
        "X = df_joueurs[[#'Player1_hand', \n",
        "                'Player1_ht','Player1_df',\n",
        "                'Player1_prcent1st', 'Player1_prcent1stwin',\n",
        "                'Player1_prcent2ndwin', 'Player1_prcentgameserve',\n",
        "                #'Player2_hand', \n",
        "                'Player2_ht',\n",
        "                'Player2_prcentgamesreturn', 'Player2_prcent1stwinreturn', 'Player2_prcent2ndwinreturn', \n",
        "                'Player2_breakwin'\n",
        "                ]]\n",
        "y = df_joueurs['Player1_ace']\n",
        "\n",
        "# Diviser les données en ensembles d'entraînement et de test (70% train, 30% test)\n",
        "X_train, X_test, y_train, y_test = train_test_split(X, y, test_size=0.1, random_state=42)\n",
        "# Créer et entraîner le modèle de forêt aléatoire\n",
        "model =RandomForestRegressor(\n",
        "    # max_depth=8,\n",
        "    # max_features='auto',\n",
        "    # min_samples_leaf=1,\n",
        "    # min_samples_split=2,\n",
        "    # n_estimators=500#,\n",
        "  #  random_state=42\n",
        ")  # Vous pouvez ajuster les hyperparamètres selon vos besoins\n",
        "\n",
        "model.fit(X_train, y_train)\n",
        "\n",
        "# Faire des prédictions sur l'ensemble de test\n",
        "y_pred = model.predict(X_test)\n",
        "\n",
        "# Calculer le R²\n",
        "r2 = r2_score(y_test, y_pred)\n",
        "print(f\"R² : {r2}\")\n",
        "\n",
        "# Créer une droite parfaite (y = x) pour la comparaison\n",
        "x_line = np.linspace(min(y_test), max(y_test), 100)\n",
        "y_line = x_line\n",
        "\n",
        "# Tracer les prédictions par rapport aux valeurs réelles avec la droite parfaite\n",
        "plt.figure(figsize=(10, 6))\n",
        "plt.scatter(y_test, y_pred, alpha=0.5)\n",
        "plt.plot(x_line, y_line, color='red', linestyle='--', label='Droite parfaite')\n",
        "plt.xlabel(\"Valeurs Réelles (Player1_ace)\")\n",
        "plt.ylabel(\"Prédictions (Player1_ace)\")\n",
        "plt.title(\"Prédictions vs Réalité\")\n",
        "plt.legend()\n",
        "plt.show()\n"
      ]
    },
    {
      "cell_type": "code",
      "execution_count": 9,
      "metadata": {
        "colab": {
          "base_uri": "https://localhost:8080/"
        },
        "id": "_7sfkTrOlyyZ",
        "outputId": "6dc70ba9-91c6-4999-c348-c2fa7769c18d"
      },
      "outputs": [
        {
          "data": {
            "text/plain": [
              "['modele_foret_aleatoire.pkl']"
            ]
          },
          "execution_count": 9,
          "metadata": {},
          "output_type": "execute_result"
        }
      ],
      "source": [
        "joblib.dump(model, 'modele_foret_aleatoire.pkl')"
      ]
    },
    {
      "cell_type": "markdown",
      "metadata": {},
      "source": [
        "# Creation des futurs df pour streamlit"
      ]
    },
    {
      "cell_type": "code",
      "execution_count": 10,
      "metadata": {
        "colab": {
          "base_uri": "https://localhost:8080/"
        },
        "id": "EKr2tLF7JLmN",
        "outputId": "2317cd9d-534d-470c-8d04-5768b6b679bf"
      },
      "outputs": [
        {
          "name": "stdout",
          "output_type": "stream",
          "text": [
            "(14570, 8)\n",
            "(14570, 6)\n"
          ]
        }
      ],
      "source": [
        "# Créez df_player1 avec les colonnes Player1_*\n",
        "df_player1 = df_streamlit[['Player1_name',#'Player1_hand', \n",
        "                           'Player1_ht', 'Player1_ace', 'Player1_df', 'Player1_prcent1st',\n",
        "    'Player1_prcent1stwin', 'Player1_prcent2ndwin', 'Player1_prcentgameserve']]\n",
        "\n",
        "# Créez df_player2 avec les colonnes Player2_*\n",
        "df_player2 = df_streamlit[[ 'Player2_name',#'Player2_hand', \n",
        "                           'Player2_ht',\n",
        "                'Player2_prcentgamesreturn', 'Player2_prcent1stwinreturn', 'Player2_prcent2ndwinreturn', 'Player2_breakwin']]\n",
        "\n",
        "# Maintenant, df_player1 et df_player2 contiennent les données des joueurs 1 et 2 respectivement.\n",
        "print(df_player1.shape)\n",
        "print(df_player2.shape)"
      ]
    },
    {
      "cell_type": "markdown",
      "metadata": {
        "id": "f7gW3YWqKFRh"
      },
      "source": [
        "# Generer les CSV"
      ]
    },
    {
      "cell_type": "markdown",
      "metadata": {
        "id": "VgFiaw0VMtAz"
      },
      "source": [
        "## Select Player"
      ]
    },
    {
      "cell_type": "code",
      "execution_count": 11,
      "metadata": {
        "id": "nWq5gexDMf0O"
      },
      "outputs": [],
      "source": [
        "df_streamlit1 = pd.DataFrame({'Player1_name_unique': df_streamlit['Player1_name'].unique()})\n",
        "df_streamlit1.to_csv(\"SelectionOFPlayer.csv\")"
      ]
    },
    {
      "cell_type": "markdown",
      "metadata": {
        "id": "GEKnGzw4Pxup"
      },
      "source": [
        "## Select Player 1 & 2"
      ]
    },
    {
      "cell_type": "code",
      "execution_count": 12,
      "metadata": {
        "colab": {
          "base_uri": "https://localhost:8080/"
        },
        "id": "lXA0MnshV215",
        "outputId": "8f128ad4-4002-4578-a089-55406593eaef"
      },
      "outputs": [
        {
          "name": "stderr",
          "output_type": "stream",
          "text": [
            "Processing Players:  14%|█▍        | 45/317 [00:00<00:01, 137.44it/s]"
          ]
        },
        {
          "name": "stderr",
          "output_type": "stream",
          "text": [
            "Processing Players: 100%|██████████| 317/317 [00:02<00:00, 154.87it/s]\n"
          ]
        }
      ],
      "source": [
        "# Initialiser un dictionnaire pour stocker les résultats\n",
        "results = {\"Player1_name\": [],\n",
        "           #\"Player1_hand\": [],\n",
        "           \"Player1_ht\": [],\n",
        "          \"Player1_ace\":[],\n",
        "          \"Player1_df\":[],\n",
        "          \"Player1_prcent1st\":[],\n",
        "          \"Player1_prcent1stwin\":[],\n",
        "          \"Player1_prcent2ndwin\": [],\n",
        "          \"Player1_prcentgameserve\": []\n",
        "          }\n",
        "\n",
        "for player in tqdm(df_streamlit1['Player1_name_unique'], desc=\"Processing Players\"):\n",
        "\n",
        "  results[\"Player1_name\"].append(player)\n",
        "  matches = df_player1[(df_player1[\"Player1_name\"]==player)]\n",
        "  #recuperation des X derniers matchs de chaque joueur pour calculer des metrics\n",
        "  last_10_matches = matches.head(20)\n",
        "  last_1_matches = matches.head(1)\n",
        "  # #hand\n",
        "  # hand = last_1_matches[last_1_matches[\"Player1_name\"]==player][\"Player1_hand\"].sum()\n",
        "  # results[\"Player1_hand\"].append(hand)\n",
        "  # height\n",
        "  height = last_1_matches[last_1_matches[\"Player1_name\"]==player][\"Player1_ht\"].sum()\n",
        "  results[\"Player1_ht\"].append(height)\n",
        "  #ace\n",
        "  Player1_ace = last_10_matches[last_10_matches[\"Player1_name\"]==player][\"Player1_ace\"].sum()\n",
        "  Player1_ace = Player1_ace / 20\n",
        "  results[\"Player1_ace\"].append(Player1_ace)\n",
        "  # df\n",
        "  Player1_df = last_10_matches[last_10_matches[\"Player1_name\"]==player][\"Player1_df\"].sum()\n",
        "  Player1_df = Player1_df / 20\n",
        "  results[\"Player1_df\"].append(Player1_df)\n",
        "  # Player1_prcent1st\n",
        "  Player1_prcent1st = last_10_matches[last_10_matches[\"Player1_name\"]==player][\"Player1_prcent1st\"].sum()\n",
        "  Player1_prcent1st = Player1_prcent1st / 20\n",
        "  results[\"Player1_prcent1st\"].append(Player1_prcent1st)\n",
        "  # Player1_prcent1stwin\n",
        "  Player1_prcent1stwin = last_10_matches[last_10_matches[\"Player1_name\"]==player][\"Player1_prcent1stwin\"].sum()\n",
        "  Player1_prcent1stwin = Player1_prcent1stwin / 20\n",
        "  results[\"Player1_prcent1stwin\"].append(Player1_prcent1stwin)\n",
        "    # Player1_prcent2ndwin\n",
        "  Player1_prcent2ndwin = last_10_matches[last_10_matches[\"Player1_name\"]==player][\"Player1_prcent2ndwin\"].sum()\n",
        "  Player1_prcent2ndwin = Player1_prcent2ndwin / 20\n",
        "  results[\"Player1_prcent2ndwin\"].append(Player1_prcent2ndwin)\n",
        "      # Player1_prcentgameserve\n",
        "  Player1_prcentgameserve = last_10_matches[last_10_matches[\"Player1_name\"]==player][\"Player1_prcentgameserve\"].sum()\n",
        "  Player1_prcentgameserve = Player1_prcentgameserve / 20\n",
        "  results[\"Player1_prcentgameserve\"].append(Player1_prcentgameserve)\n",
        "\n",
        "player_j1_df_df = pd.DataFrame(results)\n",
        "player_j1_df_df.to_csv(\"Player1.csv\")\n"
      ]
    },
    {
      "cell_type": "code",
      "execution_count": 13,
      "metadata": {
        "colab": {
          "base_uri": "https://localhost:8080/"
        },
        "id": "TUbnTaNWb7Ag",
        "outputId": "c8799498-2584-478d-fd37-9f48ae270082"
      },
      "outputs": [
        {
          "name": "stderr",
          "output_type": "stream",
          "text": [
            "Processing Players: 100%|██████████| 317/317 [00:01<00:00, 204.87it/s]\n"
          ]
        }
      ],
      "source": [
        "# Initialiser un dictionnaire pour stocker les résultats\n",
        "results = {\"Player2_name\": [],\n",
        "          # \"Player2_hand\": [],\n",
        "           \"Player2_ht\": [],\n",
        "          \"Player2_prcentgamesreturn\":[],\n",
        "          \"Player2_prcent1stwinreturn\":[],\n",
        "          \"Player2_prcent2ndwinreturn\":[],\n",
        "          \"Player2_breakwin\":[]\n",
        "          }\n",
        "\n",
        "for player in tqdm(df_streamlit1['Player1_name_unique'], desc=\"Processing Players\"):\n",
        "\n",
        "  results[\"Player2_name\"].append(player)\n",
        "  matches = df_player2[(df_player2[\"Player2_name\"]==player)]\n",
        "  #recuperation des X derniers matchs de chaque joueur pour calculer des metrics\n",
        "  last_10_matches = matches.head(10)\n",
        "  last_1_matches = matches.head(1)\n",
        "  # #hand\n",
        "  # hand = last_1_matches[last_1_matches[\"Player2_name\"]==player][\"Player2_hand\"].sum()\n",
        "  # results[\"Player2_hand\"].append(hand)\n",
        " # height\n",
        "  height = last_1_matches[last_1_matches[\"Player2_name\"]==player][\"Player2_ht\"].sum()\n",
        "  results[\"Player2_ht\"].append(height)\n",
        "  #ace\n",
        "  Player2_prcentgamesreturn = last_10_matches[last_10_matches[\"Player2_name\"]==player][\"Player2_prcentgamesreturn\"].sum()\n",
        "  Player2_prcentgamesreturn = Player2_prcentgamesreturn / 10\n",
        "  results[\"Player2_prcentgamesreturn\"].append(Player2_prcentgamesreturn)\n",
        "  # df\n",
        "  Player2_prcent1stwinreturn = last_10_matches[last_10_matches[\"Player2_name\"]==player][\"Player2_prcent1stwinreturn\"].sum()\n",
        "  Player2_prcent1stwinreturn = Player2_prcent1stwinreturn / 10\n",
        "  results[\"Player2_prcent1stwinreturn\"].append(Player2_prcent1stwinreturn)\n",
        "  # Player1_prcent1st\n",
        "  Player2_prcent2ndwinreturn = last_10_matches[last_10_matches[\"Player2_name\"]==player][\"Player2_prcent2ndwinreturn\"].sum()\n",
        "  Player2_prcent2ndwinreturn = Player2_prcent2ndwinreturn / 10\n",
        "  results[\"Player2_prcent2ndwinreturn\"].append(Player2_prcent2ndwinreturn)\n",
        "  # Player2_breakwin\n",
        "  Player2_breakwin = last_10_matches[last_10_matches[\"Player2_name\"]==player][\"Player2_breakwin\"].sum()\n",
        "  Player2_breakwin = Player2_breakwin / 10\n",
        "  results[\"Player2_breakwin\"].append(Player2_breakwin)\n",
        "\n",
        "\n",
        "player_j2_df_df = pd.DataFrame(results)\n",
        "player_j2_df_df.to_csv(\"Player2.csv\")\n"
      ]
    },
    {
      "cell_type": "code",
      "execution_count": 14,
      "metadata": {
        "colab": {
          "base_uri": "https://localhost:8080/"
        },
        "id": "IsGtP9INhEdQ",
        "outputId": "1153c17e-5868-4782-99ab-558924f5cad5"
      },
      "outputs": [
        {
          "name": "stdout",
          "output_type": "stream",
          "text": [
            "(317, 8)\n",
            "(317, 6)\n"
          ]
        }
      ],
      "source": [
        "print(player_j1_df_df.shape)\n",
        "print(player_j2_df_df.shape)"
      ]
    }
  ],
  "metadata": {
    "colab": {
      "collapsed_sections": [
        "Yqy89Z-Sv72e",
        "VgFiaw0VMtAz",
        "GEKnGzw4Pxup"
      ],
      "provenance": []
    },
    "kernelspec": {
      "display_name": "Python 3",
      "name": "python3"
    },
    "language_info": {
      "codemirror_mode": {
        "name": "ipython",
        "version": 3
      },
      "file_extension": ".py",
      "mimetype": "text/x-python",
      "name": "python",
      "nbconvert_exporter": "python",
      "pygments_lexer": "ipython3",
      "version": "3.10.11"
    }
  },
  "nbformat": 4,
  "nbformat_minor": 0
}
